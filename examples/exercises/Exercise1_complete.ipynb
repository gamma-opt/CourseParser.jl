{
  "cells": [
    {
      "cell_type": "markdown",
      "source": [
        "# Testing exercise generation"
      ],
      "metadata": {}
    },
    {
      "cell_type": "markdown",
      "source": [
        "This would be the text for the exercise... Works exactly like in a notebook. We mark with 2  \nhashtags () lines to be present only in the solution."
      ],
      "metadata": {}
    },
    {
      "outputs": [],
      "cell_type": "code",
      "source": [
        "# TODO\nprintln(\"Hello!\")\n\n# Solution\nusing JuMP\nm = Model()"
      ],
      "metadata": {},
      "execution_count": null
    }
  ],
  "nbformat_minor": 2,
  "metadata": {
    "language_info": {
      "file_extension": ".jl",
      "mimetype": "application/julia",
      "name": "julia",
      "version": "1.6.0"
    },
    "kernelspec": {
      "name": "julia-1.6",
      "display_name": "Julia 1.6.0",
      "language": "julia"
    }
  },
  "nbformat": 4
}

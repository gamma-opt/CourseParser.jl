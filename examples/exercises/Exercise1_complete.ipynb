{
 "cells": [
  {
   "cell_type": "markdown",
   "metadata": {},
   "source": [
    "# Testing exercise generation"
   ]
  },
  {
   "cell_type": "markdown",
   "metadata": {},
   "source": [
    "This would be the text for the exercise... The main document that we maintain is the complete notebook and in each code cell, the parts that should be removed in the skeleton are separated with lines containing only #%\n",
    "$Ax = b$"
   ]
  },
  {
   "cell_type": "code",
   "execution_count": null,
   "metadata": {},
   "outputs": [],
   "source": [
    "println(\"Hello!\")\n",
    "\n",
    "#%\n",
    "# Solution\n",
    "using JuMP\n",
    "m = Model()\n",
    "#%"
   ]
  },
  {
   "cell_type": "code",
   "execution_count": null,
   "metadata": {},
   "outputs": [],
   "source": [
    "\n",
    "using Cbc\n",
    "function solve_model(m)\n",
    "    #%\n",
    "    optimize!(m)\n",
    "    #%\n",
    "end"
   ]
  }
 ],
 "metadata": {
  "kernelspec": {
   "display_name": "Julia 1.5.1",
   "language": "julia",
   "name": "julia-1.5"
  },
  "language_info": {
   "file_extension": ".jl",
   "mimetype": "application/julia",
   "name": "julia",
   "version": "1.5.1"
  }
 },
 "nbformat": 4,
 "nbformat_minor": 4
}

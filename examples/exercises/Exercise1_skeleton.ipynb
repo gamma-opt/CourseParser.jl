{
  "cells": [
    {
      "cell_type": "markdown",
      "source": [
        "# Testing exercise generation"
      ],
      "metadata": {}
    },
    {
      "cell_type": "markdown",
      "source": [
        "This would be the text for the exercise... Works exactly like in a notebook. We mark with 2  \n$Ax = b$"
      ],
      "metadata": {}
    },
    {
      "outputs": [],
      "cell_type": "code",
      "source": [
        "# TODO\nprintln(\"Hello!\")"
      ],
      "metadata": {},
      "execution_count": null
    },
    {
      "cell_type": "markdown",
      "source": [
        ""
      ],
      "metadata": {}
    },
    {
      "outputs": [],
      "cell_type": "code",
      "source": [
        "# TODO"
      ],
      "metadata": {},
      "execution_count": null
    }
  ],
  "nbformat_minor": 2,
  "metadata": {
    "language_info": {
      "file_extension": ".jl",
      "mimetype": "application/julia",
      "name": "julia",
      "version": "1.6.0"
    },
    "kernelspec": {
      "name": "julia-1.6",
      "display_name": "Julia 1.6.0",
      "language": "julia"
    }
  },
  "nbformat": 4
}

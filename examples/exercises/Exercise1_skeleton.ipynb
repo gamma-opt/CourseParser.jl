{
  "cells": [
    {
      "cell_type": "markdown",
      "source": [
        "# Testing exercise generation\n#' \nThis would be the text for the exercise... The main document that we maintain is the complete notebook and in each code cell, the parts that should be removed in the skeleton are separated with lines containing only #%\n$Ax = b$"
      ],
      "metadata": {}
    },
    {
      "outputs": [],
      "cell_type": "code",
      "source": [
        "println(\"Hello!\")\n\n# TODO: add your code here"
      ],
      "metadata": {},
      "execution_count": null
    },
    {
      "outputs": [],
      "cell_type": "code",
      "source": [
        "using Cbc\nfunction solve_model(m)\n# TODO: add your code here\n\nend"
      ],
      "metadata": {},
      "execution_count": null
    }
  ],
  "nbformat_minor": 2,
  "metadata": {
    "language_info": {
      "file_extension": ".jl",
      "mimetype": "application/julia",
      "name": "julia",
      "version": "1.7.1"
    },
    "kernelspec": {
      "name": "julia-1.7",
      "display_name": "Julia 1.7.1",
      "language": "julia"
    }
  },
  "nbformat": 4
}
